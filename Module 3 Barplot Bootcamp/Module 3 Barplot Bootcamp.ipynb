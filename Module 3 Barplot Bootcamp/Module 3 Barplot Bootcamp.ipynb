{
 "cells": [
  {
   "cell_type": "markdown",
   "metadata": {},
   "source": [
    "# Module 3: Barplot Bootcamp\n",
    "## Introduction\n",
    "Welcome to the <b>Barplot</b> bootcamp! In this module we are going to learn how to load data from a <code>.csv</code> file or as it is more commonly known, an excel spreadsheet. This will also be one of your first opportunities to load packages and use them to analyze and plot your data. <b>Barplots</b> are a useful plot that can be used to compare many variables, typically at the very least the relatioship between a <b>categorical variable</b> and a <b>numerical variable</b>. In this module we will learn about loading <code>.csv</code> files and analyzing them using a <b>Python</b> package called <code>pandas</code>. We will also be utilizing two plotting packages: <code>matplotlib</code> and <code>seaborn</code>. <code>Matplotlib</code> creates a framework and rules for creating figures. <code>Seaborn</code> uses the <code>matplotlib</code> rules and makes them loom more aesthetically pleasing and also makes it easier to use with data loaded using <code>pandas</code>. Lastly, we will utilize one of the most important packages for using data matrices: <code>Numpy</code> (Note: don't be a noob and pronounce it wrong it. It reads like Numb - pie. Think of <u>Num</u>ber-<u>py</u>thon.)."
   ]
  },
  {
   "cell_type": "markdown",
   "metadata": {},
   "source": [
    "## Loading Packages\n",
    "Let's get started and dive in! First we are going to load in these packages. Anytime you load in a <b>package</b> into <b>Python</b> this should be done at the <u>beginning</u> of the script. To load a package you have to use the <code>import</code> function followed by the name of the package. You can choose to follow this with <code>as \"insert your name of choice\"</code> to give it a shorter name. This is convenient when you have to call a function from this package repeatedly and want to type less. For example instead of calling <code>numpy.mean(array)</code> I can just call <code>np.mean(array)</code>."
   ]
  },
  {
   "cell_type": "code",
   "execution_count": 1,
   "metadata": {},
   "outputs": [],
   "source": [
    "import numpy as np\n",
    "import matplotlib.pyplot as plt\n",
    "import pandas as pd\n",
    "import seaborn as sns"
   ]
  },
  {
   "cell_type": "markdown",
   "metadata": {},
   "source": [
    "## Loading Data\n",
    "Alrighty, let's go ahead and load in some data. On <b>D2L</b> there should be some example data saved as a <code>.csv</code> file that you can download. If you have access to the excel version of the file save it as a <code>.csv</code> file. Important: you need to know the hierarchy of folders to get to the <code>.csv</code> file so that you can load it into your script. For example, if you saved it on your <b>Desktop</b> on <i>MacOS</i> the location will be something like this (using mine as an example) <code>/Users/JakeCanfield/Desktop/data.csv</code>."
   ]
  },
  {
   "cell_type": "markdown",
   "metadata": {},
   "source": [
    "The function that we are going to use to load our data is <code>pd.read_csv()</code>. When we load the data we need to assign it to a variable of our choosing so that we can interact with it in the future. We are also going to make a variable with a <code>string</code> that defines the path to our data and a place to save things later. When we do this we can just add the <code>string</code> for the filepath (<b>fp</b>) and the name of our file or anything else in that folder. Go ahead and try it!"
   ]
  },
  {
   "cell_type": "code",
   "execution_count": 13,
   "metadata": {},
   "outputs": [],
   "source": [
    "fp = '/Users/JakeCanfield/Documents/PSL_475L_Capstone_Physiology_Lab_MSU/Module_data/Module_3/'\n",
    "df = pd.read_csv(fp + 'data.csv')"
   ]
  },
  {
   "cell_type": "markdown",
   "metadata": {},
   "source": [
    "Now that the data is loaded, let's print it out to see what it looks like. Use the <code>print()</code> or <code>display()</code>function to show the data (display looks nicer in <b>Jupyter Notebooks</b>."
   ]
  },
  {
   "cell_type": "code",
   "execution_count": 15,
   "metadata": {},
   "outputs": [
    {
     "data": {
      "text/html": [
       "<div>\n",
       "<style scoped>\n",
       "    .dataframe tbody tr th:only-of-type {\n",
       "        vertical-align: middle;\n",
       "    }\n",
       "\n",
       "    .dataframe tbody tr th {\n",
       "        vertical-align: top;\n",
       "    }\n",
       "\n",
       "    .dataframe thead th {\n",
       "        text-align: right;\n",
       "    }\n",
       "</style>\n",
       "<table border=\"1\" class=\"dataframe\">\n",
       "  <thead>\n",
       "    <tr style=\"text-align: right;\">\n",
       "      <th></th>\n",
       "      <th>Name</th>\n",
       "      <th>Age</th>\n",
       "      <th>Gender</th>\n",
       "      <th>BMI</th>\n",
       "      <th>Smoker</th>\n",
       "      <th>Fasted</th>\n",
       "      <th>Caffeine Free</th>\n",
       "      <th>Included?</th>\n",
       "    </tr>\n",
       "  </thead>\n",
       "  <tbody>\n",
       "    <tr>\n",
       "      <th>0</th>\n",
       "      <td>John</td>\n",
       "      <td>19</td>\n",
       "      <td>m</td>\n",
       "      <td>22.0</td>\n",
       "      <td>n</td>\n",
       "      <td>y</td>\n",
       "      <td>y</td>\n",
       "      <td>y</td>\n",
       "    </tr>\n",
       "    <tr>\n",
       "      <th>1</th>\n",
       "      <td>Susie</td>\n",
       "      <td>20</td>\n",
       "      <td>f</td>\n",
       "      <td>18.0</td>\n",
       "      <td>n</td>\n",
       "      <td>y</td>\n",
       "      <td>y</td>\n",
       "      <td>y</td>\n",
       "    </tr>\n",
       "    <tr>\n",
       "      <th>2</th>\n",
       "      <td>Alex</td>\n",
       "      <td>21</td>\n",
       "      <td>m</td>\n",
       "      <td>24.0</td>\n",
       "      <td>n</td>\n",
       "      <td>y</td>\n",
       "      <td>y</td>\n",
       "      <td>y</td>\n",
       "    </tr>\n",
       "    <tr>\n",
       "      <th>3</th>\n",
       "      <td>Zoey</td>\n",
       "      <td>21</td>\n",
       "      <td>f</td>\n",
       "      <td>25.0</td>\n",
       "      <td>n</td>\n",
       "      <td>y</td>\n",
       "      <td>y</td>\n",
       "      <td>y</td>\n",
       "    </tr>\n",
       "    <tr>\n",
       "      <th>4</th>\n",
       "      <td>Joe</td>\n",
       "      <td>22</td>\n",
       "      <td>m</td>\n",
       "      <td>19.0</td>\n",
       "      <td>n</td>\n",
       "      <td>y</td>\n",
       "      <td>y</td>\n",
       "      <td>y</td>\n",
       "    </tr>\n",
       "    <tr>\n",
       "      <th>5</th>\n",
       "      <td>Chad</td>\n",
       "      <td>23</td>\n",
       "      <td>m</td>\n",
       "      <td>20.5</td>\n",
       "      <td>n</td>\n",
       "      <td>y</td>\n",
       "      <td>y</td>\n",
       "      <td>y</td>\n",
       "    </tr>\n",
       "    <tr>\n",
       "      <th>6</th>\n",
       "      <td>Sam</td>\n",
       "      <td>19</td>\n",
       "      <td>m</td>\n",
       "      <td>21.5</td>\n",
       "      <td>n</td>\n",
       "      <td>y</td>\n",
       "      <td>y</td>\n",
       "      <td>y</td>\n",
       "    </tr>\n",
       "    <tr>\n",
       "      <th>7</th>\n",
       "      <td>Josie</td>\n",
       "      <td>23</td>\n",
       "      <td>f</td>\n",
       "      <td>22.0</td>\n",
       "      <td>n</td>\n",
       "      <td>y</td>\n",
       "      <td>y</td>\n",
       "      <td>y</td>\n",
       "    </tr>\n",
       "    <tr>\n",
       "      <th>8</th>\n",
       "      <td>Henry</td>\n",
       "      <td>24</td>\n",
       "      <td>m</td>\n",
       "      <td>23.0</td>\n",
       "      <td>n</td>\n",
       "      <td>y</td>\n",
       "      <td>y</td>\n",
       "      <td>y</td>\n",
       "    </tr>\n",
       "    <tr>\n",
       "      <th>9</th>\n",
       "      <td>Elise</td>\n",
       "      <td>27</td>\n",
       "      <td>f</td>\n",
       "      <td>30.0</td>\n",
       "      <td>n</td>\n",
       "      <td>n</td>\n",
       "      <td>y</td>\n",
       "      <td>n</td>\n",
       "    </tr>\n",
       "  </tbody>\n",
       "</table>\n",
       "</div>"
      ],
      "text/plain": [
       "    Name  Age Gender   BMI Smoker Fasted Caffeine Free Included?\n",
       "0   John   19      m  22.0      n      y             y         y\n",
       "1  Susie   20      f  18.0      n      y             y         y\n",
       "2   Alex   21      m  24.0      n      y             y         y\n",
       "3   Zoey   21      f  25.0      n      y             y         y\n",
       "4    Joe   22      m  19.0      n      y             y         y\n",
       "5   Chad   23      m  20.5      n      y             y         y\n",
       "6    Sam   19      m  21.5      n      y             y         y\n",
       "7  Josie   23      f  22.0      n      y             y         y\n",
       "8  Henry   24      m  23.0      n      y             y         y\n",
       "9  Elise   27      f  30.0      n      n             y         n"
      ]
     },
     "metadata": {},
     "output_type": "display_data"
    }
   ],
   "source": [
    "display(df)"
   ]
  },
  {
   "cell_type": "markdown",
   "metadata": {},
   "source": [
    "One of our experimental exclusion criteria was coming to the experiment fasted. As we can see from the table, <b>Elise</b> did not qualify to be counted in our data because she did not come fasted. We need to remove her from the data so that she doesn't contribute with her confounding variable. We are going to overwrite our <code>DataFrame</code> (name of the object that our data is stored as right now) and removing all of the rows where there is not a <b>y</b> in the <b>Fasted</b> column. "
   ]
  },
  {
   "cell_type": "code",
   "execution_count": 16,
   "metadata": {},
   "outputs": [
    {
     "data": {
      "text/html": [
       "<div>\n",
       "<style scoped>\n",
       "    .dataframe tbody tr th:only-of-type {\n",
       "        vertical-align: middle;\n",
       "    }\n",
       "\n",
       "    .dataframe tbody tr th {\n",
       "        vertical-align: top;\n",
       "    }\n",
       "\n",
       "    .dataframe thead th {\n",
       "        text-align: right;\n",
       "    }\n",
       "</style>\n",
       "<table border=\"1\" class=\"dataframe\">\n",
       "  <thead>\n",
       "    <tr style=\"text-align: right;\">\n",
       "      <th></th>\n",
       "      <th>Name</th>\n",
       "      <th>Age</th>\n",
       "      <th>Gender</th>\n",
       "      <th>BMI</th>\n",
       "      <th>Smoker</th>\n",
       "      <th>Fasted</th>\n",
       "      <th>Caffeine Free</th>\n",
       "      <th>Included?</th>\n",
       "    </tr>\n",
       "  </thead>\n",
       "  <tbody>\n",
       "    <tr>\n",
       "      <th>0</th>\n",
       "      <td>John</td>\n",
       "      <td>19</td>\n",
       "      <td>m</td>\n",
       "      <td>22.0</td>\n",
       "      <td>n</td>\n",
       "      <td>y</td>\n",
       "      <td>y</td>\n",
       "      <td>y</td>\n",
       "    </tr>\n",
       "    <tr>\n",
       "      <th>1</th>\n",
       "      <td>Susie</td>\n",
       "      <td>20</td>\n",
       "      <td>f</td>\n",
       "      <td>18.0</td>\n",
       "      <td>n</td>\n",
       "      <td>y</td>\n",
       "      <td>y</td>\n",
       "      <td>y</td>\n",
       "    </tr>\n",
       "    <tr>\n",
       "      <th>2</th>\n",
       "      <td>Alex</td>\n",
       "      <td>21</td>\n",
       "      <td>m</td>\n",
       "      <td>24.0</td>\n",
       "      <td>n</td>\n",
       "      <td>y</td>\n",
       "      <td>y</td>\n",
       "      <td>y</td>\n",
       "    </tr>\n",
       "    <tr>\n",
       "      <th>3</th>\n",
       "      <td>Zoey</td>\n",
       "      <td>21</td>\n",
       "      <td>f</td>\n",
       "      <td>25.0</td>\n",
       "      <td>n</td>\n",
       "      <td>y</td>\n",
       "      <td>y</td>\n",
       "      <td>y</td>\n",
       "    </tr>\n",
       "    <tr>\n",
       "      <th>4</th>\n",
       "      <td>Joe</td>\n",
       "      <td>22</td>\n",
       "      <td>m</td>\n",
       "      <td>19.0</td>\n",
       "      <td>n</td>\n",
       "      <td>y</td>\n",
       "      <td>y</td>\n",
       "      <td>y</td>\n",
       "    </tr>\n",
       "    <tr>\n",
       "      <th>5</th>\n",
       "      <td>Chad</td>\n",
       "      <td>23</td>\n",
       "      <td>m</td>\n",
       "      <td>20.5</td>\n",
       "      <td>n</td>\n",
       "      <td>y</td>\n",
       "      <td>y</td>\n",
       "      <td>y</td>\n",
       "    </tr>\n",
       "    <tr>\n",
       "      <th>6</th>\n",
       "      <td>Sam</td>\n",
       "      <td>19</td>\n",
       "      <td>m</td>\n",
       "      <td>21.5</td>\n",
       "      <td>n</td>\n",
       "      <td>y</td>\n",
       "      <td>y</td>\n",
       "      <td>y</td>\n",
       "    </tr>\n",
       "    <tr>\n",
       "      <th>7</th>\n",
       "      <td>Josie</td>\n",
       "      <td>23</td>\n",
       "      <td>f</td>\n",
       "      <td>22.0</td>\n",
       "      <td>n</td>\n",
       "      <td>y</td>\n",
       "      <td>y</td>\n",
       "      <td>y</td>\n",
       "    </tr>\n",
       "    <tr>\n",
       "      <th>8</th>\n",
       "      <td>Henry</td>\n",
       "      <td>24</td>\n",
       "      <td>m</td>\n",
       "      <td>23.0</td>\n",
       "      <td>n</td>\n",
       "      <td>y</td>\n",
       "      <td>y</td>\n",
       "      <td>y</td>\n",
       "    </tr>\n",
       "  </tbody>\n",
       "</table>\n",
       "</div>"
      ],
      "text/plain": [
       "    Name  Age Gender   BMI Smoker Fasted Caffeine Free Included?\n",
       "0   John   19      m  22.0      n      y             y         y\n",
       "1  Susie   20      f  18.0      n      y             y         y\n",
       "2   Alex   21      m  24.0      n      y             y         y\n",
       "3   Zoey   21      f  25.0      n      y             y         y\n",
       "4    Joe   22      m  19.0      n      y             y         y\n",
       "5   Chad   23      m  20.5      n      y             y         y\n",
       "6    Sam   19      m  21.5      n      y             y         y\n",
       "7  Josie   23      f  22.0      n      y             y         y\n",
       "8  Henry   24      m  23.0      n      y             y         y"
      ]
     },
     "metadata": {},
     "output_type": "display_data"
    }
   ],
   "source": [
    "df = df.loc[df['Fasted'] == 'y']\n",
    "display(df)"
   ]
  },
  {
   "cell_type": "markdown",
   "metadata": {},
   "source": [
    "As you can see we removed Elise. We used the <code>loc</code> function on the <code>df</code> DataFrame. This lets us search through the rows or <b>Index</b> and perform some task on all of them. Then inside the <code>[]</code> we called <code>df['Fasted']</code>. This selects the column <b>Fasted</b> out of the list of columns in the DatFrame <code>df</code>. Lastly, we say that we are only going to keep the rows that have the value <b>y</b> in the column <b>Fasted</b>. Aka, we filtered out anybody who responded <b>No</b> or <b>n</b>."
   ]
  },
  {
   "cell_type": "markdown",
   "metadata": {},
   "source": [
    "Now that we have our data cleaned up let's start making figures! We are going to use the function <code>sns.barplot()</code> to make our figure. Let's try it. We need to specify the <code>data</code> and the <code>x</code> and <code>y</code>. To actually see our figure we need to use the function <code>plt.show()</code>. We only have to call the name of the columns for the <code>x</code> and <code>y</code> because we loaded the data into the plotting function as a <b>pandas</b> <code>DataFrame</code> we are able to do this quite easily."
   ]
  },
  {
   "cell_type": "code",
   "execution_count": 17,
   "metadata": {},
   "outputs": [
    {
     "data": {
      "image/png": "[encoded data removed]",
      "text/plain": [
       "<Figure size 432x288 with 1 Axes>"
      ]
     },
     "metadata": {
      "needs_background": "light"
     },
     "output_type": "display_data"
    }
   ],
   "source": [
    "sns.barplot(data = df, x = 'Gender', y = 'BMI')\n",
    "plt.show()"
   ]
  },
  {
   "cell_type": "markdown",
   "metadata": {},
   "source": [
    "We can add a title with the function <code>plt.title()</code>."
   ]
  },
  {
   "cell_type": "code",
   "execution_count": 19,
   "metadata": {},
   "outputs": [
    {
     "data": {
      "image/png": "[encoded data removed]",
      "text/plain": [
       "<Figure size 432x288 with 1 Axes>"
      ]
     },
     "metadata": {
      "needs_background": "light"
     },
     "output_type": "display_data"
    }
   ],
   "source": [
    "sns.barplot(data = df, x = 'Gender', y = 'BMI')\n",
    "plt.title('BMI vs. Gender')\n",
    "plt.show()"
   ]
  },
  {
   "cell_type": "markdown",
   "metadata": {},
   "source": [
    "We can change the figure aesthetics using the function <code>sns.set_style()</code>. I'm going to use one called <b>darkgrid</b>. You can find more of these themes [here](https://seaborn.pydata.org/tutorial/aesthetics.html)."
   ]
  },
  {
   "cell_type": "code",
   "execution_count": 23,
   "metadata": {},
   "outputs": [
    {
     "data": {
      "image/png": "[encoded data removed]",
      "text/plain": [
       "<Figure size 432x288 with 1 Axes>"
      ]
     },
     "metadata": {},
     "output_type": "display_data"
    }
   ],
   "source": [
    "sns.set_style(\"darkgrid\", {\"axes.facecolor\": \".9\"})\n",
    "sns.barplot(data = df, x = 'Gender', y = 'BMI')\n",
    "plt.title('BMI vs. Gender')\n",
    "plt.show()"
   ]
  },
  {
   "cell_type": "markdown",
   "metadata": {},
   "source": [
    "We can also change many features by declaring the figure context using <code>set_context()</code>. Check out some other options at the bottom of the page [here](https://seaborn.pydata.org/tutorial/aesthetics.html)."
   ]
  },
  {
   "cell_type": "code",
   "execution_count": 26,
   "metadata": {},
   "outputs": [
    {
     "data": {
      "image/png": "[encoded data removed]",
      "text/plain": [
       "<Figure size 432x288 with 1 Axes>"
      ]
     },
     "metadata": {},
     "output_type": "display_data"
    }
   ],
   "source": [
    "sns.set_style(\"darkgrid\", {\"axes.facecolor\": \".9\"})\n",
    "sns.set_context('talk')\n",
    "sns.barplot(data = df, x = 'Gender', y = 'BMI')\n",
    "plt.title('BMI vs. Gender')\n",
    "plt.show()"
   ]
  },
  {
   "cell_type": "markdown",
   "metadata": {},
   "source": [
    "If we want our error bars to be <b>standard deviation</b> we need to add the argument <code>ci = 'sd'</code>."
   ]
  },
  {
   "cell_type": "code",
   "execution_count": 27,
   "metadata": {},
   "outputs": [
    {
     "data": {
      "image/png": "[encoded data removed]",
      "text/plain": [
       "<Figure size 432x288 with 1 Axes>"
      ]
     },
     "metadata": {},
     "output_type": "display_data"
    }
   ],
   "source": [
    "sns.set_style(\"darkgrid\", {\"axes.facecolor\": \".9\"})\n",
    "sns.set_context('talk')\n",
    "sns.barplot(data = df, x = 'Gender', y = 'BMI', ci = 'sd')\n",
    "plt.title('BMI vs. Gender')\n",
    "plt.show()"
   ]
  },
  {
   "cell_type": "markdown",
   "metadata": {},
   "source": [
    "You can change the orientation of the plot with the <code>orient</code> argument. Note: you need to change the <code>x</code> and <code>y</code> variables."
   ]
  },
  {
   "cell_type": "code",
   "execution_count": 30,
   "metadata": {},
   "outputs": [
    {
     "data": {
      "image/png": "[encoded data removed]",
      "text/plain": [
       "<Figure size 432x288 with 1 Axes>"
      ]
     },
     "metadata": {},
     "output_type": "display_data"
    }
   ],
   "source": [
    "sns.set_style(\"darkgrid\", {\"axes.facecolor\": \".9\"})\n",
    "sns.set_context('talk')\n",
    "sns.barplot(data = df, x = 'BMI', y = 'Gender', ci = 'sd', orient = 'h')\n",
    "plt.title('BMI vs. Gender')\n",
    "plt.show()"
   ]
  },
  {
   "cell_type": "markdown",
   "metadata": {},
   "source": [
    "You can also change the color palete using the argument <code>palette</code>. Check out the different available color palettes [here](http://seaborn.pydata.org/tutorial/color_palettes.html). I picked <b>viridis</b> which is a a color palette that maximizes contrast for color blind people."
   ]
  },
  {
   "cell_type": "code",
   "execution_count": 32,
   "metadata": {},
   "outputs": [
    {
     "data": {
      "image/png": "[encoded data removed]",
      "text/plain": [
       "<Figure size 432x288 with 1 Axes>"
      ]
     },
     "metadata": {},
     "output_type": "display_data"
    }
   ],
   "source": [
    "sns.set_style(\"darkgrid\", {\"axes.facecolor\": \".9\"})\n",
    "sns.set_context('talk')\n",
    "sns.barplot(data = df, x = 'Gender', y = 'BMI', ci = 'sd', palette = 'viridis')\n",
    "plt.title('BMI vs. Gender')\n",
    "plt.show()"
   ]
  },
  {
   "cell_type": "markdown",
   "metadata": {},
   "source": [
    "We can add some caps to the error bars with the argument <code>capsize</code>."
   ]
  },
  {
   "cell_type": "code",
   "execution_count": 48,
   "metadata": {},
   "outputs": [
    {
     "data": {
      "image/png": "[encoded data removed]",
      "text/plain": [
       "<Figure size 432x288 with 1 Axes>"
      ]
     },
     "metadata": {},
     "output_type": "display_data"
    }
   ],
   "source": [
    "sns.set_style(\"darkgrid\", {\"axes.facecolor\": \".9\"})\n",
    "sns.set_context('talk')\n",
    "sns.barplot(data = df, x = 'Gender', y = 'BMI', ci = 'sd', palette = 'mako', capsize = 0.2)\n",
    "plt.title('BMI vs. Gender')\n",
    "plt.show()"
   ]
  },
  {
   "cell_type": "markdown",
   "metadata": {},
   "source": [
    "We could also plot another variable using the <code>hue</code> argument. Let's try it."
   ]
  },
  {
   "cell_type": "code",
   "execution_count": 41,
   "metadata": {},
   "outputs": [
    {
     "data": {
      "image/png": "[encoded data removed]",
      "text/plain": [
       "<Figure size 432x288 with 1 Axes>"
      ]
     },
     "metadata": {},
     "output_type": "display_data"
    }
   ],
   "source": [
    "sns.set_style(\"darkgrid\", {\"axes.facecolor\": \".9\"})\n",
    "sns.set_context('talk')\n",
    "sns.barplot(data = df, x = 'Age', y = 'BMI', hue = 'Gender', ci = 'sd', palette = 'viridis', capsize = 0.2)\n",
    "plt.title('BMI vs. Gender')\n",
    "plt.show()"
   ]
  },
  {
   "cell_type": "markdown",
   "metadata": {},
   "source": [
    "We can add the function <code>plt.tight_layout()</code> to make sure that the figure fits the screen dimensions better."
   ]
  },
  {
   "cell_type": "code",
   "execution_count": 44,
   "metadata": {},
   "outputs": [
    {
     "data": {
      "image/png": "[encoded data removed]",
      "text/plain": [
       "<Figure size 432x288 with 1 Axes>"
      ]
     },
     "metadata": {},
     "output_type": "display_data"
    }
   ],
   "source": [
    "sns.set_style(\"darkgrid\", {\"axes.facecolor\": \".9\"})\n",
    "sns.set_context('talk')\n",
    "sns.barplot(data = df, x = 'Age', y = 'BMI', hue = 'Gender', ci = 'sd', palette = 'rocket', capsize = 0.2)\n",
    "plt.title('BMI vs. Gender')\n",
    "plt.tight_layout()\n",
    "plt.show()"
   ]
  },
  {
   "cell_type": "markdown",
   "metadata": {},
   "source": [
    "Let's try age:"
   ]
  },
  {
   "cell_type": "code",
   "execution_count": 46,
   "metadata": {},
   "outputs": [
    {
     "data": {
      "image/png": "[encoded data removed]",
      "text/plain": [
       "<Figure size 432x288 with 1 Axes>"
      ]
     },
     "metadata": {},
     "output_type": "display_data"
    }
   ],
   "source": [
    "sns.set_style(\"darkgrid\", {\"axes.facecolor\": \".9\"})\n",
    "sns.set_context('talk')\n",
    "sns.barplot(data = df, x = 'Gender', y = 'Age', ci = 'sd', palette = 'husl', capsize = 0.2)\n",
    "plt.title('Age vs. Gender')\n",
    "plt.show()"
   ]
  },
  {
   "cell_type": "markdown",
   "metadata": {},
   "source": [
    "## Conclusion\n",
    "I can go on for eternity showing you all of the different ways in which you can modify figures using this code. There isn't a single aspect that I can think of that can't be customized or modified to your heart's desire. If you get stuck an excellent resource is <b>Stack Overflow</b> where other people post questions and answers to their problems. Include python and the name of the package or error in your search for best results. Lastly, a great resource is the example gallery on the seaborn website, which also includes tutorial. Check it out [here](https://seaborn.pydata.org/examples/index.html)! Thanks for doing this module and I look forward to doing the next one with you! Feel free to email me with questions @ <code>canfie44@msu.edu</code>!"
   ]
  }
 ],
 "metadata": {
  "kernelspec": {
   "display_name": "Python 3",
   "language": "python",
   "name": "python3"
  },
  "language_info": {
   "codemirror_mode": {
    "name": "ipython",
    "version": 3
   },
   "file_extension": ".py",
   "mimetype": "text/x-python",
   "name": "python",
   "nbconvert_exporter": "python",
   "pygments_lexer": "ipython3",
   "version": "3.7.3"
  }
 },
 "nbformat": 4,
 "nbformat_minor": 2
}
