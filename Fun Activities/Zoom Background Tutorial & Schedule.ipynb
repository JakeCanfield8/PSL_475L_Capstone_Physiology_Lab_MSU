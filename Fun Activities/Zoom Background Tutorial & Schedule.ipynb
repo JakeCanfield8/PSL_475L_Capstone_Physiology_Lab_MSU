{
 "cells": [
  {
   "cell_type": "markdown",
   "metadata": {},
   "source": [
    "# Zoom Background Tutorial"
   ]
  },
  {
   "cell_type": "markdown",
   "metadata": {},
   "source": [
    "Hey PSL 475 Gang! This semester is going to be super awesome and we are looking for some fun ways to get to know more about you! The 475 teaching team as a broad spectrum of fun personalities including sports fans and movie enthusiasts (especially Star Wars and Lord of the Rings). Each week we are going to select an interesting category or topic that you can use as a chance to express yourself with via your Zoom background when you attend class! Here we will quickly go over how to do change your background. It's really easy and opens up a world of possibility once you get the hang of it!"
   ]
  },
  {
   "attachments": {},
   "cell_type": "markdown",
   "metadata": {},
   "source": [
    "1. Go to your favorite website browser and search for an image that matches the current weeks theme (I will use LOTR as my example because it is awesome).\n",
    "> <img src=\"Screenshots/Screen%20Shot%202020-09-03%20at%2010.54.26%20AM.png\">\n",
    "\n",
    "2. Right click on the desired image and select <b>Save Image As...</b>\n",
    "> <img src=\"Screenshots/Screen%20Shot%202020-09-03%20at%2010.56.55%20AM.png\">\n",
    "\n",
    "3. Choose a place to save it (that you will remember). I am going to make a folder to save all of my Zoom backgrounds in but you can save your images anywhere you want as long as you can remember how to find it.\n",
    "> <img src=\"Screenshots/Screen%20Shot%202020-09-03%20at%2011.01.31%20AM.png\">\n",
    "\n",
    "4. Open the Zoom application on one of your devices. Do you see the little settings button in the top right corner (under the green square with my initials)? Click on that to open the settings menu.\n",
    "> <img src=\"Screenshots/Screen%20Shot%202020-09-03%20at%2011.04.25%20AM.png\">\n",
    "\n",
    "5. A new window will be pulled up that looks like this:\n",
    "> <img src=\"Screenshots/Screen%20Shot%202020-09-03%20at%2011.07.08%20AM.png\">\n",
    "\n",
    "6. Go ahead and select <b>Virtual Background</b> from the left hand list of tabs. Your camera may or may not be turned on to give you a preview of your virtual background (you can see me here, apologies for my terrible webcam). As you can see there are already some pre-set backgrounds that you can test out such as <b>Earth</b>!\n",
    "> <img src=\"Screenshots/Screen%20Shot%202020-09-03%20at%2011.09.51%20AM.png\">\n",
    "\n",
    "7. Next, we are going to click on the little <b>plus</b> button to add our own image as a background. Look for <b> Add virtual background image</b> when hovering over it (as shown in the image below).  <b>Note:</b> you can only have a couple of different backgrounds stored on your Zoom account at a time so don't panic if some of the backgrounds from previous weeks are replaced by new ones you add.\n",
    "> <img src=\"Screenshots/Screen%20Shot%202020-09-03%20at%2011.14.58%20AM.png\"> \n",
    "\n",
    "8. When you click on this <b>plus</b> it will prompt you to search for the image you saved. Remember where it is? Go there, select it and click <b>Open</b>.\n",
    "> <img src=\"Screenshots/Screen%20Shot%202020-09-03%20at%2011.18.16%20AM.png\">\n",
    "\n",
    "9. Your background should now be set to your desired image! If you have an older laptop it may require you to check the box that says <b>I have a green screen</b>, even if you don't have one. Ideally this box should be unchecked unless you actually have a green screen. If you have to leave it checked that is fine but your background may have a hard time rendering your face. This shouldn't be a problem if you are using a fairly new mobile device. Once you have the background uploaded, it should be shared across all of your devices if you are logged into the same Zoom account. My camera is not very good AND my laptop is a little older so this feature doesn't work super great for me but this is largely due to my webcam quality. \n",
    "> <img src=\"Screenshots/Screen%20Shot%202020-09-03%20at%2011.26.38%20AM.png\">"
   ]
  },
  {
   "cell_type": "markdown",
   "metadata": {},
   "source": [
    "## Weekly Zoom Background Theme Schedule"
   ]
  },
  {
   "cell_type": "markdown",
   "metadata": {},
   "source": [
    "| Date Range | Background Theme |\n",
    "|------------|------------------|\n",
    "|Sept. 7 - Sept. 13 | Favorite Movie |\n",
    "|Sept. 14 - Sept. 20 | Favorite Sports Team |\n",
    "|Sept. 21 - Sept. 28 | Favorite Organ System |"
   ]
  }
 ],
 "metadata": {
  "kernelspec": {
   "display_name": "Python 3",
   "language": "python",
   "name": "python3"
  },
  "language_info": {
   "codemirror_mode": {
    "name": "ipython",
    "version": 3
   },
   "file_extension": ".py",
   "mimetype": "text/x-python",
   "name": "python",
   "nbconvert_exporter": "python",
   "pygments_lexer": "ipython3",
   "version": "3.7.3"
  }
 },
 "nbformat": 4,
 "nbformat_minor": 2
}
