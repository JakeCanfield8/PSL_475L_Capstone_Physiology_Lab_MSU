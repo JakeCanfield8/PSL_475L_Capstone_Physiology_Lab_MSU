{
 "cells": [
  {
   "cell_type": "markdown",
   "metadata": {},
   "source": [
    "# Zoom Background Tutorial"
   ]
  },
  {
   "cell_type": "markdown",
   "metadata": {},
   "source": [
    "Hey PSL 475 Gang! This semester is going to be super awesome and we are looking for some fun ways to get to know more about you! The 475 teaching team as a broad spectrum of fun personalities including sports fans and movie enthusiasts (especially Star Wars and Lord of the Rings). Each week we are going to select an interesting category or topic that you can use as a chance to express yourself with via your Zoom background when you attend class! Here we will quickly go over how to do change your background. It's really easy and opens up a world of possibility once you get the hang of it!"
   ]
  },
  {
   "attachments": {},
   "cell_type": "markdown",
   "metadata": {},
   "source": [
    "1. Go to your favorite website browser and search for an image that matches the current weeks theme (I will use LOTR as my example because it is awesome).\n",
    "> <img src=\"Screenshots/Screen%20Shot%202020-09-03%20at%2010.54.26%20AM.png\">\n",
    "\n",
    "2. Right click on the desired image and select <b>Save Image As...</b>\n",
    "> <img src=\"Screenshots/Screen%20Shot%202020-09-03%20at%2010.56.55%20AM.png\">\n",
    "\n",
    "3. Choose a place to save it (that you will remember). I am going to make a folder to save all of my Zoom backgrounds in but you can save your images anywhere you want as long as you can remember how to find it.\n",
    "> <img src=\"Screenshots/Screen%20Shot%202020-09-03%20at%2011.01.31%20AM.png\">\n",
    "\n",
    "4. Open the Zoom application on one of your devices. Do you see the little settings button in the top right corner (under the green square with my initials)? Click on that to open the settings menu.\n",
    "> <img src=\"Screenshots/Screen%20Shot%202020-09-03%20at%2011.04.25%20AM.png\">\n",
    "\n",
    "5. A new window will be pulled up that looks like this:\n",
    "> <img src=\"Screenshots/Screen%20Shot%202020-09-03%20at%2011.07.08%20AM.png\">\n",
    "\n",
    "6. Go ahead and select <b>Virtual Background</b> from the left hand list of tabs. Your camera may or may not be turned on to give you a preview of your virtual background (you can see me here, apologies for my terrible webcam). As you can see there are already some pre-set backgrounds that you can test out such as <b>Earth</b>!\n",
    "> <img src=\"Screenshots/Screen%20Shot%202020-09-03%20at%2011.09.51%20AM.png\">\n",
    "\n",
    "7. Next, we are going to click on the little <b>plus</b> button to add our own image as a background. Look for <b> Add virtual background image</b> when hovering over it (as shown in the image below).  <b>Note:</b> you can only have a couple of different backgrounds stored on your Zoom account at a time so don't panic if some of the backgrounds from previous weeks are replaced by new ones you add.\n",
    "> <img src=\"Screenshots/Screen%20Shot%202020-09-03%20at%2011.14.58%20AM.png\"> \n",
    "\n",
    "8. When you click on this <b>plus</b> it will prompt you to search for the image you saved. Remember where it is? Go there, select it and click <b>Open</b>.\n",
    "> <img src=\"Screenshots/Screen%20Shot%202020-09-03%20at%2011.18.16%20AM.png\">\n",
    "\n",
    "9. Your background should now be set to your desired image! If you have an older laptop it may require you to check the box that says <b>I have a green screen</b>, even if you don't have one. Ideally this box should be unchecked unless you actually have a green screen. If you have to leave it checked that is fine but your background may have a hard time rendering your face. This shouldn't be a problem if you are using a fairly new mobile device. Once you have the background uploaded, it should be shared across all of your devices if you are logged into the same Zoom account. My camera is not very good AND my laptop is a little older so this feature doesn't work super great for me but this is largely due to my webcam quality. \n",
    "> <img src=\"Screenshots/Screen%20Shot%202020-09-03%20at%2011.26.38%20AM.png\">"
   ]
  },
  {
   "cell_type": "markdown",
   "metadata": {},
   "source": [
    "## Weekly Zoom Background Theme Schedule"
   ]
  },
  {
   "cell_type": "code",
   "execution_count": 7,
   "metadata": {},
   "outputs": [
    {
     "data": {
      "text/html": [
       "<script>\n",
       "code_show=true; \n",
       "function code_toggle() {\n",
       " if (code_show){\n",
       " $('div.input').hide();\n",
       " } else {\n",
       " $('div.input').show();\n",
       " }\n",
       " code_show = !code_show\n",
       "} \n",
       "$( document ).ready(code_toggle);\n",
       "</script>\n",
       "<form action=\"javascript:code_toggle()\"><input type=\"submit\" value=\"Click here to toggle on/off the raw code.\"></form>"
      ],
      "text/plain": [
       "<IPython.core.display.HTML object>"
      ]
     },
     "execution_count": 7,
     "metadata": {},
     "output_type": "execute_result"
    }
   ],
   "source": [
    "from IPython.display import HTML\n",
    "\n",
    "HTML('''<script>\n",
    "code_show=true; \n",
    "function code_toggle() {\n",
    " if (code_show){\n",
    " $('div.input').hide();\n",
    " } else {\n",
    " $('div.input').show();\n",
    " }\n",
    " code_show = !code_show\n",
    "} \n",
    "$( document ).ready(code_toggle);\n",
    "</script>\n",
    "<form action=\"javascript:code_toggle()\"><input type=\"submit\" value=\"Click here to toggle on/off the raw code.\"></form>''')"
   ]
  },
  {
   "cell_type": "code",
   "execution_count": 9,
   "metadata": {},
   "outputs": [
    {
     "data": {
      "text/html": [
       "<div>\n",
       "<style scoped>\n",
       "    .dataframe tbody tr th:only-of-type {\n",
       "        vertical-align: middle;\n",
       "    }\n",
       "\n",
       "    .dataframe tbody tr th {\n",
       "        vertical-align: top;\n",
       "    }\n",
       "\n",
       "    .dataframe thead th {\n",
       "        text-align: right;\n",
       "    }\n",
       "</style>\n",
       "<table border=\"1\" class=\"dataframe\">\n",
       "  <thead>\n",
       "    <tr style=\"text-align: right;\">\n",
       "      <th></th>\n",
       "      <th>Week #</th>\n",
       "      <th>Date Range</th>\n",
       "      <th>Background Theme</th>\n",
       "    </tr>\n",
       "  </thead>\n",
       "  <tbody>\n",
       "    <tr>\n",
       "      <th>0</th>\n",
       "      <td>1</td>\n",
       "      <td>Sept. 7 - Sept. 13</td>\n",
       "      <td>Favorite Movie</td>\n",
       "    </tr>\n",
       "    <tr>\n",
       "      <th>1</th>\n",
       "      <td>2</td>\n",
       "      <td>Sept. 14 - Sept. 20</td>\n",
       "      <td>Favorite Sports Team</td>\n",
       "    </tr>\n",
       "    <tr>\n",
       "      <th>2</th>\n",
       "      <td>3</td>\n",
       "      <td>Sept. 21 - Sept. 28</td>\n",
       "      <td>Favorite Organ System</td>\n",
       "    </tr>\n",
       "  </tbody>\n",
       "</table>\n",
       "</div>"
      ],
      "text/plain": [
       "   Week #           Date Range       Background Theme\n",
       "0       1   Sept. 7 - Sept. 13         Favorite Movie\n",
       "1       2  Sept. 14 - Sept. 20   Favorite Sports Team\n",
       "2       3  Sept. 21 - Sept. 28  Favorite Organ System"
      ]
     },
     "metadata": {},
     "output_type": "display_data"
    }
   ],
   "source": [
    "import pandas as pd\n",
    "df = pd.DataFrame(data = [\n",
    "    [1, 'Sept. 7 - Sept. 13', 'Favorite Movie'],\n",
    "    [2, 'Sept. 14 - Sept. 20', 'Favorite Sports Team'],\n",
    "    [3, 'Sept. 21 - Sept. 28', 'Favorite Organ System']\n",
    "],\n",
    "    columns = ['Week #', 'Date Range', 'Background Theme'])\n",
    "\n",
    "display(df)"
   ]
  },
  {
   "cell_type": "code",
   "execution_count": null,
   "metadata": {},
   "outputs": [],
   "source": []
  }
 ],
 "metadata": {
  "kernelspec": {
   "display_name": "Python 3",
   "language": "python",
   "name": "python3"
  },
  "language_info": {
   "codemirror_mode": {
    "name": "ipython",
    "version": 3
   },
   "file_extension": ".py",
   "mimetype": "text/x-python",
   "name": "python",
   "nbconvert_exporter": "python",
   "pygments_lexer": "ipython3",
   "version": "3.7.3"
  }
 },
 "nbformat": 4,
 "nbformat_minor": 2
}
