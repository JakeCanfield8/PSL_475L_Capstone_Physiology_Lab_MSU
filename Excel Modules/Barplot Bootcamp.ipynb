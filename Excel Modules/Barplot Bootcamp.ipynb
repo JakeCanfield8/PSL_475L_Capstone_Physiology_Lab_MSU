{
 "cells": [
  {
   "cell_type": "markdown",
   "metadata": {},
   "source": [
    "# Barplot Bootcamp"
   ]
  },
  {
   "cell_type": "markdown",
   "metadata": {},
   "source": [
    "## Introduction\n",
    "Welcome to the first data analysis and figure generation module! We are going to be tackling how to make a basic <b>barplot</b> in <b>excel</b>. <b>Barplots</b> are figures that are often used to compare <b>numerical variables</b> with <b>categorical variables</b>. Today we are going to take some data collected from 10 subjects about age, BMI and their respective gender. Take a look at our data below!"
   ]
  },
  {
   "cell_type": "markdown",
   "metadata": {},
   "source": [
    "## Data"
   ]
  },
  {
   "attachments": {},
   "cell_type": "markdown",
   "metadata": {},
   "source": [
    "> <img src=\"Screenshots/Screen%20Shot%202020-09-25%20at%202.02.35%20PM.png\">"
   ]
  },
  {
   "attachments": {},
   "cell_type": "markdown",
   "metadata": {},
   "source": [
    "## Data Analysis\n",
    "### Exclusion Criteria\n",
    "As you can see we used some exclusion criteria in our experiment to minimize the number of confounding variables that may affect BMI measurements. Elise is the subject highlighted in red and it turns out she did not show up to the lab fasted and so she must be excluded from the experiment because the extra bodyweight from her food will give an inaccurate reading for her BMI.\n",
    "### Distribution Statistics\n",
    "Another aspect of our data that we are going to analyze is the distribution the data creates. Two common features of data distributions that are of particular interest are measures of <b>center</b> and <b>spread</b>. Measures of <b>center</b>, such as the <b>average (mean)</b> and <b>median</b>, tell us the most prevalent values from the distribution. Measures of <b>spread</b>, such as <b>standard deviation</b> or <b>standard error mean (SEM)</b> on the other hand tell us how much the data varies about the <b>center</b>. Both of these types of features of a distribution are heavily influened by the <b>sample size</b>, denoted <i>N</i>. As the <b>sample size</b> from a population increases in size so does our confidence that the measure of <b>center</b> represents the true value from the larger population. For example, if we have a sample size of 3 people for estimating average height and each person is 5', 6' and 7' then we would say the average is 6'. Our sample size is very small so there is a high probability that we picked very biased samples from the greater population. As we increase the number of subjects the average will converge on the true value for average height in the population.\n",
    "### Let's Try it!\n",
    "#### Number of Samples or Subjects\n",
    "We are going to calculate the <b>mean</b>, <b>standard deviation</b> and <b>SEM</b> for males and females independetly. We need to count the number of males and females that we have so let's look at our data.\n",
    "> <img src=\"Screenshots/Screen%20Shot%202020-09-25%20at%202.21.47%20PM.png\">\n",
    "\n",
    "#### Average or Mean\n",
    "As you can see in the figure there are 6 Males and 3 Females. Next we want to calculate the <b>mean</b> BMI for males and females respectively. <b>Excel</b> is handy in that it already has many of these mathematical functions built into it so that we don't have to do it by hand. In order to use a function we must select a cell and add a <code>=</code> to tell excel that we want to use a function.\n",
    "> <img src=\"Screenshots/Screen%20Shot%202020-09-25%20at%202.26.50%20PM.png\">\n",
    "\n",
    "To call one of the functions that already exist in <b>excel</b> we just have to start to type the its name. Let's try writing <code>average(</code>:\n",
    "> <img src=\"Screenshots/Screen%20Shot%202020-09-25%20at%202.31.15%20PM.png\">\n",
    "\n",
    "As you can see <b>excel</b> will try to make suggestions for functions it already has built in as you complete the word. Now, we want to calculate the <b>average</b> for males exclusively so we can't just select the whole column of BMI data. Using your cursor, while holding down Ctrl (<i>Windows</i>) or Command (<i>MacOS</i>), and click each of the BMI data points associated with males. When you have selected all of the data make sure you that you close the function parentheses so that it looks like this: <code>=average(data1, data2, data3...)</code>. Click enter to calculate the average! After you have done that we will repeat the same steps for females to get their average BMI as well.\n",
    "> <img src=\"Screenshots/Screen%20Shot%202020-09-25%20at%202.39.51%20PM.png\">\n",
    "\n",
    "> <img src=\"Screenshots/Screen%20Shot%202020-09-25%20at%202.42.03%20PM.png\">\n",
    "\n",
    "#### Standard Deviation (STDEV)\n",
    "Now we need a measure of <b>spread</b>! Let's calcualte the <b>standard deviation</b> using the same principles. Start by selecting a cell to add the function <code>=STDEV(</code> and using <i>Ctrl</i> or <i>Command</i> to select the male and female BMI data respectively.\n",
    "> <img src=\"Screenshots/Screen%20Shot%202020-09-25%20at%202.48.01%20PM.png\">\n",
    "\n",
    "#### Standard Error Mean (SEM)\n",
    "Lastly, let's calculate the <b>SEM</b> as another option for an error bar that we can use in the <b>Barplot</b>. The formua for caluclating <b>SEM</b> is the <b>standard deviation</b> divided by the <b>sqare root</b> of <b>N</b>, where <b>N</b> is the <b>number of subjects or samples</b>. In <b>excel</b> we can write this by selecting the male and female cell for <b>standard deviation</b> and <b>number of samples</b> from previous steps by clicking on them. Based on the figure above the function should look like this: <code>=D19/SQRT(D13)</code>. Give this a try and do the same for females again.\n",
    "> <img src=\"Screenshots/Screen%20Shot%202020-09-25%20at%202.58.41%20PM.png\">\n",
    "\n",
    "> <img src=\"Screenshots/Screen%20Shot%202020-09-25%20at%202.59.21%20PM.png\">\n",
    "\n",
    "Awesome job! Now we have all of the data that we need to make a <b>Barplot</b> that shows the relationship between BMI and gender. Time to make a great figure!"
   ]
  },
  {
   "attachments": {},
   "cell_type": "markdown",
   "metadata": {},
   "source": [
    "## Making the Barplot\n",
    "Alright, now we have generated some useful statistics about our data but we want to visualize this in a simple and clean fashion. We are going to use a <b>barplot</b> to do this! Let's start by selecting our data about <b>average</b> BMI for both males and females like such:\n",
    "> <img src=\"Screenshots/Screen%20Shot%202020-09-25%20at%203.34.55%20PM.png\">\n",
    "\n",
    "We are now going to go up to the tab in the top of screen and select <b>Insert</b>:\n",
    "> <img src=\"Screenshots/Screen%20Shot%202020-09-25%20at%203.36.27%20PM.png\">\n",
    "\n",
    "Then select the <b>column</b> figure button:\n",
    "> <img src=\"Screenshots/Screen%20Shot%202020-09-25%20at%203.39.31%20PM.png\">\n",
    "\n",
    "Select the <b>2D Column (Clustered Column)</b> figure:\n",
    "> <img src=\"Screenshots/Screen%20Shot%202020-09-25%20at%203.40.35%20PM.png\">\n",
    "\n",
    "Awesome! Now we have a figure to work with. Now it's time to pretty it up so that it is visually appealing and shows the appropriate information. We already have a <i>Chart Title</i> so let's put something meaningful. If you don't want to be super creative the most efficient naming mechanism is: <code>Independent varaible vs. Dependent variable</code>. This is generic but will get the information across. Other information pertinent can be included as well. I will use <code>BMI vs. Gender</code>.\n",
    "> <img src=\"Screenshots/Screen%20Shot%202020-09-25%20at%203.46.32%20PM.png\">\n",
    "\n",
    "Next we should add some titles to our axes. Typically, you want to include any relevant units or abbreviations so that someone can read your figure without having to read anything else. Let's add an axis title for the y-axis. I'm going to call it <code>Body Mass Index (BMI)</code>. To do this we need to double click on some blank space on our figure. This will pull up the <b>Chart Design</b> tab. From there we will click <b>Add Chart Element</b> (top left). Select <b>Axis Titles > Primary Vertical</b>. This will add a textbox on the y-axis of your figure. Change the title of the y-axis like so:\n",
    "> <img src=\"Screenshots/Screen%20Shot%202020-09-25%20at%203.51.16%20PM.png\">\n",
    "\n",
    "> <img src=\"Screenshots/Screen%20Shot%202020-09-25%20at%203.54.09%20PM.png\">\n",
    "\n",
    "Try doing the same thing with the x-axis! This time select <b>Add Chart Element > Axis Titles > Primary Horizontal</b>. I'm going to call my <code>Gender</code>\n",
    "> <img src=\"Screenshots/Screen%20Shot%202020-09-25%20at%203.55.47%20PM.png\">\n",
    "\n",
    "Another thing we can do is add data labels to each bar so that we know what the height of the bar is with high accuracy. To do this select <b>Add Chart Element > Data Labels > Inside Base</b>. This will add our value to the bottom of the bar. There are other stylistic ways to add this but the <b>Inside Base</b> option is least likely to interfere with some other chart elements that we will be adding later.\n",
    "> <img src=\"Screenshots/Screen%20Shot%202020-09-25%20at%204.01.04%20PM.png\">\n",
    "\n",
    "Notice that the color of the text is not very visible with the blue background and there are way too many decimal places? We can format many chart elements by double clicking on them to pull up a menu that allows us to manipulate their properties. Let's do that:\n",
    "> <img src=\"Screenshots/Screen%20Shot%202020-09-25%20at%204.02.47%20PM.png\">\n",
    "\n",
    "If we go down to where there is an arrow pointing to <b>Number</b> and click on it, a drop down menu will appear. There is a field called <b>Category</b> which dictates the type of value in a cell or element. Change this to <b>Number</b>. This will then allow us to manipulate the <b>Decimal Places</b>. The <b>significant figures</b> of our data allow 1 decimal place so let's make that change.\n",
    "> <img src=\"Screenshots/Screen%20Shot%202020-09-25%20at%204.05.54%20PM.png\">\n",
    "\n",
    "As you can see this solves our <b>significant figures</b> problem, however, this doesn't make it any easier to see against the dark background of the bar. Going back to the menu for editing elements by double clicking on the numbers at the bottom of the bar we now see several icons at the top. Currently we are in one that looks like a bar graph. Select the <b>Paint Can</b> icon to edit features like text color. Then two tabs will be shown at the top. Select <b>Text Options</b>. There will be a smaller <b>Paint Can</b> icon on the right of the menu under the drop down menu <b>Text Fill</b>. Click on it and select the color of your text (I will use white for contrast).\n",
    "> <img src=\"Screenshots/Screen%20Shot%202020-09-25%20at%204.10.55%20PM.png\">\n",
    "\n",
    "Nice job! Let's keep going. Single click on the <b>Axis Titles</b>, <b>Title</b> and the <b>Axis Ticks</b> and then right click on them. Select <b>Font</b>. In the menu displayed increase the size of the text or any other properties so that you can easily see them on your figure.\n",
    "> <img src=\"Screenshots/Screen%20Shot%202020-09-25%20at%204.15.01%20PM.png\">\n",
    "\n",
    "> <img src=\"Screenshots/Screen%20Shot%202020-09-25%20at%204.15.43%20PM.png\">\n",
    "\n",
    "> <img src=\"Screenshots/Screen%20Shot%202020-09-25%20at%204.16.19%20PM.png\">\n",
    "\n",
    "This plot is really coming together now! We're missing something though. Remember, we calculated the <b>standard deviation</b> and the <b>SEM</b>. Let's incorporate those into our figure in the form of error bars. To do this double click on your figure, select <b>Add Chart Element > Error Bars > More Error Bar Options...</b>.\n",
    "> <img src=\"Screenshots/Screen%20Shot%202020-09-25%20at%204.20.28%20PM.png\">\n",
    "\n",
    "This will pull up a new menu on the right side of your screen:\n",
    "> <img src=\"Screenshots/Screen%20Shot%202020-09-25%20at%204.21.19%20PM.png\">\n",
    "\n",
    "<b>Excel</b> can calculate some of these values for you but because of the nature in which we are displaying our data we are going to do <b>Custom</b> error bars. Select <b>Custom</b> and then click </b>Specify Value</b>. You will be prompted with this box:\n",
    "> <img src=\"Screenshots/Screen%20Shot%202020-09-25%20at%204.23.26%20PM.png\">\n",
    "\n",
    "We are now going to click the icon with the red arrow on the right to select the values we want to use for <b>Positive Error Value</b> and <b>Negative Error Value</b>. Let's select the <b>standard deviation</b> that we calculated for both males and females:\n",
    "> <img src=\"Screenshots/Screen%20Shot%202020-09-25%20at%204.25.26%20PM.png\">\n",
    "\n",
    "Click the icon with the red arrow to add these values. We are going to use this for both our <b>Positive Error Value</b> AND <b>Negative Error Value</b>. So, repeat this same step, selecting the same values, for the <b>Negatie Error Values</b> just as you did for the <b>Positive Error Value</b>. Click <b>OK</b> when you have selected both sets of values. Now look at your plot with error bars!\n",
    "> <img src=\"Screenshots/Screen%20Shot%202020-09-25%20at%204.29.22%20PM.png\">\n",
    "\n",
    "We can follow the same steps that we did with <b>standard deviation</b> to add error bars using <b>SEM</b>. <b>SEM</b> is a more common value used for an error bar because it tells us the <code>average +/- SEM</code> or basically the range of values surrounding the <b>estimated average</b> that the <b>true average</b> may fall in. Increasing <b>sample size, N,</b> will make <b>SEM</b> smaller and thus we can be more confident in our estimation of our <b>average</b>. \n",
    "> <img src=\"Screenshots/Screen%20Shot%202020-09-25%20at%204.35.43%20PM.png\">\n",
    "\n",
    "## Conclusion\n",
    "<b>Congratulations!</b> You have successfully made a <b>Barplot</b>! You don't have to be done yet. There are many ways you can stylistically alter your figures in <b>Excel</b>. You can change the color, size and font of all the text. You can change the colors and shading methods of the bars. <b>Excel</b> also includes many pre-made templates that can look quite interesting. Spend some time exploring and playing around with these so that you can make unique and personalized figures with your own little touch! Hope you enjoyed this tutorial and I look forward to \"seeing\" you next time! If you want to learn how to make figures like this using the coding language <b>Python</b> check out my <b>Coding Bootcamp</b> tailored for PSL 475L!\n",
    "> <img src=\"Screenshots/Screen%20Shot%202020-09-25%20at%204.40.37%20PM.png\">"
   ]
  },
  {
   "cell_type": "code",
   "execution_count": null,
   "metadata": {},
   "outputs": [],
   "source": []
  }
 ],
 "metadata": {
  "kernelspec": {
   "display_name": "Python 3",
   "language": "python",
   "name": "python3"
  },
  "language_info": {
   "codemirror_mode": {
    "name": "ipython",
    "version": 3
   },
   "file_extension": ".py",
   "mimetype": "text/x-python",
   "name": "python",
   "nbconvert_exporter": "python",
   "pygments_lexer": "ipython3",
   "version": "3.7.3"
  }
 },
 "nbformat": 4,
 "nbformat_minor": 2
}
