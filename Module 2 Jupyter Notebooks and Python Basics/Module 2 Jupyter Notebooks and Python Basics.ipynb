{
 "cells": [
  {
   "cell_type": "markdown",
   "metadata": {},
   "source": [
    "# Module 2 Jupyter Notebooks and Python Basics"
   ]
  },
  {
   "cell_type": "markdown",
   "metadata": {},
   "source": [
    "## Jupyter Notebooks"
   ]
  },
  {
   "cell_type": "markdown",
   "metadata": {},
   "source": [
    "Welcome back! Super excited to see some of you being over achievers and returning for more! In this module we are going to learn about <b>Jupyter Notebooks</b> and some basic <b>Python</b> code later."
   ]
  },
  {
   "cell_type": "markdown",
   "metadata": {},
   "source": [
    "### What is a Jupyter Notebook?"
   ]
  },
  {
   "cell_type": "markdown",
   "metadata": {},
   "source": [
    "A <b>Jupyter Notebook</b> is exactly what it sounds like: a notebook for your code! It's a great way to organize code, show off figures and include text descriptions of what each chunk of code is doing. In my research group we use these to prepare for lab meetings. If you look back at <b>[Module 1](https://github.com/JakeCanfield8/PSL_475L_Capstone_Physiology_Lab_MSU/blob/master/Module%201%20Hello%20World/Module%201%20Hello%20World.ipynb)</b>, <b>Jupyter Notebooks</b> can also be <b>pushed</b> to our <b>GitHub</b> page online so that other people can view our work! This is especially important because the field of data science is a very collaborative community and thrives best when we share our work with each other."
   ]
  },
  {
   "cell_type": "markdown",
   "metadata": {},
   "source": [
    "### How do I use Jupyter Notebook?"
   ]
  },
  {
   "attachments": {},
   "cell_type": "markdown",
   "metadata": {},
   "source": [
    "There are a couple of different ways to access your <b>Jupyter Notebook</b>. The most sure fire way, based on how we have currently configured your software and without knowing which operating system you are using, is to go into the <b>Anaconda Navigator</b> application. There you will find the <b>Jupyter Notebook</b> icon. Click launch to start it up!\n",
    "> <img src=\"Screenshots/Screen%20Shot%202020-08-31%20at%2010.39.25%20AM.png\">\n",
    "\n",
    "<b>This screen appears:</b> Very important that this window stays open and running at all times. It creates and runs the <b>Jupyter Notebook</b>. It will open your <b>Jupyter Notebook</b> in your default browser (i.e. Chrome, Firefox etc.)\n",
    "> <img src=\"Screenshots/Screen%20Shot%202020-08-31%20at%2010.40.45%20AM.png\">\n",
    "\n",
    "This is what the <b>Jupyter Notebook</b> will look like in your browser. Notice that this has the exact same <b>directories</b> (folders) as your device. <b>Jupyter Notebook</b> uses your local filesystem and is using this to create a <b>shell</b> \"online\". I use the term online loosely here because you don't actually need internet to use your <b>Jupyter Notebook</b>, it just happens to be that it gets run in your browser.\n",
    "> <img src=\"Screenshots/Screen%20Shot%202020-08-31%20at%2010.44.12%20AM.png\">"
   ]
  },
  {
   "attachments": {},
   "cell_type": "markdown",
   "metadata": {},
   "source": [
    "By clicking on directories, navigate to the folder for the project that you created in <b>Module 1</b>. Further, go into the <b>Scripts</b> folder that we created. We are going to create a <b>Jupyter Notebook</b> and run your first <b>Python</b> code!\n",
    "\n",
    "> <img src=\"Screenshots/Screen%20Shot%202020-08-31%20at%2011.03.21%20AM.png\">"
   ]
  },
  {
   "attachments": {},
   "cell_type": "markdown",
   "metadata": {},
   "source": [
    "In the top right corner there is a dropdown button called <b>New</b>. Click this and select <b>Python 3</b>. This will create a <b>Python</b> notebook.\n",
    "\n",
    "> <img src=\"Screenshots/Screen%20Shot%202020-08-31%20at%2011.04.53%20AM.png\">"
   ]
  },
  {
   "attachments": {},
   "cell_type": "markdown",
   "metadata": {},
   "source": [
    "After initializing your notebook click in the top left corner where it says <b>Untitled</b> and give your notebook a name.\n",
    "\n",
    "> <img src=\"Screenshots/Screen%20Shot%202020-08-31%20at%2011.09.10%20AM.png\">"
   ]
  },
  {
   "attachments": {},
   "cell_type": "markdown",
   "metadata": {},
   "source": [
    "If you go back to the previous tab that has your filesystem in it you will see that your <b>Python</b> notebook is now there and it says that it is running!\n",
    "\n",
    "> <img src=\"Screenshots/Screen%20Shot%202020-08-31%20at%2011.11.55%20AM.png\">"
   ]
  },
  {
   "attachments": {},
   "cell_type": "markdown",
   "metadata": {},
   "source": [
    "Switch back to your <b>Python</b> notebook. In a <b>Jupyter Notebook</b> there are blocks of space for writing text or code called <b>cells</b>. By default, if you write anything in a cell it will be interpretted as code. If you want to make it into a block of text you must tell the notebook that you want <b>Markdown</b>.\n",
    "\n",
    "> <img src=\"Screenshots/Screen%20Shot%202020-08-31%20at%2011.21.43%20AM.png\">"
   ]
  },
  {
   "cell_type": "markdown",
   "metadata": {},
   "source": [
    "<b>Markdown</b> is useful because you can format the text as well in ways that you can't using code. For example, I can create titles, headers and lists or I can <i>italicize</i> or <b>bold</b> text. I won't go into extensive detail on formatting your <b>Markdown</b> because this is already detailed in many places online. [Here](https://www.datacamp.com/community/tutorials/markdown-in-jupyter-notebook?utm_source=adwords_ppc&utm_campaignid=1565261270&utm_adgroupid=67750485268&utm_device=c&utm_keyword=&utm_matchtype=b&utm_network=g&utm_adpostion=&utm_creative=332661264374&utm_targetid=aud-299261629574:dsa-429603003980&utm_loc_interest_ms=&utm_loc_physical_ms=9052422&gclid=EAIaIQobChMIlJbc_d_F6wIVRNbACh04CgyHEAAYASAAEgJ2FfD_BwE) is a DataCamp (popular coding tutorial site. Check out some of their other stuff too, it's pretty awesome for learning!) tutorial for how to format your <b>Markdown</b> text."
   ]
  },
  {
   "attachments": {},
   "cell_type": "markdown",
   "metadata": {},
   "source": [
    "In order to actually initialize your <b>Markdown</b> or <b>Code</b> you have to run the <b>Cell</b>. You can do this by clicking <b>Shift + Enter</b> or by clicking <b>Run</b> at the top of the notebook.\n",
    "\n",
    "> <img src=\"Screenshots/Screen%20Shot%202020-08-31%20at%2011.29.21%20AM.png\">\n",
    "\n",
    "> <img src=\"Screenshots/Screen%20Shot%202020-08-31%20at%2011.30.07%20AM.png\">"
   ]
  },
  {
   "cell_type": "markdown",
   "metadata": {},
   "source": [
    "When running <b>Cells</b> with code in them the order in which you run the <b>Cells</b> may matter. You can have many lines of code within each <b>Cell</b>. If you create something in one <b>Cell</b> that is later then used in another <b>Cell</b>, you must run the <b>Cell</b> that creates this thing first. This may seem obvious, however, one of the first things you will realize about writing code is that the way a computer executes your code is <i>exactly</i> how you write it, which is not necessasrily what you <i>intended</i>. Unfortunately, a computer can't estimate what you intend. Think of the computer as someone who is only capable of following the instructions that you give them on a written list and is incapable of doing anything else and will only perform something based on what and how you wrote the instructions. "
   ]
  },
  {
   "attachments": {},
   "cell_type": "markdown",
   "metadata": {},
   "source": [
    "## Python Time!\n",
    "\n",
    "Let's try writing some code!\n",
    "\n",
    "In coding languages, like <b>Python</b>, there are functions that already exist and are ready to use \"out of the box\". <b>Packages</b> are bundles of functions that have been created by other people that can be accessed by downloading them into your <b>Library</b>. Thankfully, since we installed <b>Python</b> using <b>Anaconda</b>, many many packages are already installed and ready to go. To ensure that we don't consume unnecessary amounts of temporary computer memory, or RAM, <b>Python</b> will only use <b>Packages</b> that you manually call forward to be used. \n",
    "\n",
    "You can also create your own functions. While comlicated to learn at first, this can be a very useful thing to do because then you can call upon code you've written before and use it in other places.\n",
    "\n",
    "The first function we are going to learn is <code>print()</code>. This is a super simple but important function that will display some value or text to the users screen when running code. Without this, when you run code it would just be a black screen that said your code finished and you wouldn't be able to see anything that happened in between starting and finishing. This is also super important for debugging and testing code to make sure you're doing the things you think you are.\n",
    "\n",
    "Notice that the word <code>print</code> is followed by a pair of <code>()</code>. This is an indication that print is a function. Well what are we printing? Whatever we put inside of the <code>()</code>! Let's give it a try:\n",
    "\n",
    "> <img src=\"Screenshots/Screen%20Shot%202020-08-31%20at%2011.47.18%20AM.png\">"
   ]
  },
  {
   "cell_type": "markdown",
   "metadata": {},
   "source": [
    "Notice that the <b>output</b> appears below the <b>Cell</b> that we just ran. Also, did you see that we put quotations around the text we printed? When you place <code>\"\"</code> or <code>''</code> around text it creates a <code>string</code>. <b>Strings</b> are a data type in <b>Python</b> used for text. When the computer that reads code or the <b>interpreter</b> sees this data type it knows that this is text and not a math function!"
   ]
  },
  {
   "attachments": {},
   "cell_type": "markdown",
   "metadata": {},
   "source": [
    "What if we didn't want to rewrite the text every single time we wanted to use it? We could create what is called a <code>variable</code>. When you create a <code>variable</code> you always give it a name followed by an <code>=</code> and then whatever you want the <code>variable</code> to be equal to. From that point on you can just substitute in the <code>variable</code> name you created in place of the object it is equal to. This not only saves work but also redundancy. Let's give it a try:\n",
    "\n",
    "> <img src=\"Screenshots/Screen%20Shot%202020-09-01%20at%209.24.53%20AM.png\">"
   ]
  },
  {
   "attachments": {},
   "cell_type": "markdown",
   "metadata": {},
   "source": [
    "Oh no! It seems that I have made a typo in my string and made an incomplete sentence. One thing I can do is just go back into the cell by double clicking and fixing my <code>string</code> and rerunning that <b>cell</b>. Although this isn't a reason in practice, you can also add strings together to solve the problem. There may be instances in which you may want to take two <code>strings</code> and combine them together. Try it!\n",
    "\n",
    "> <img src=\"Screenshots/Screen%20Shot%202020-09-01%20at%209.31.58%20AM.png\">"
   ]
  },
  {
   "cell_type": "markdown",
   "metadata": {},
   "source": [
    "Take note that when you are defining variables or calling functions in <b>Python</b> that they are case sensitive and usually don't have any special characters (other than <code>_</code>. This is important for looking for bugs in your code because sometimes a simple typo is enough to confuse the <b>interpreter</b>."
   ]
  },
  {
   "attachments": {},
   "cell_type": "markdown",
   "metadata": {},
   "source": [
    "<b>Python</b> is also really good at math. In fact, in my research, machine learning is essentially a lot of high level math that the computer does for you because if you tried to do it with pen and paper you'd be there until the next extinction and have to cut down all of the trees. This is not desirable or practical... Let's try some basic math:\n",
    "\n",
    "> <img src=\"Screenshots/Screen%20Shot%202020-09-01%20at%209.45.05%20AM.png\">"
   ]
  },
  {
   "attachments": {},
   "cell_type": "markdown",
   "metadata": {},
   "source": [
    "When I declared variable <code>a, b, c, d</code> I made the numbers a data type called <code>int</code> (short for integer). This is not the same as the data type called <code>float</code> which are specifically numbers with decimals. This is an important distinction because it affects how the numbers interact with certain functions. You can convert in between <code>int</code> and <code>float</code> or even <code>str</code>(<b>strings</b>; the string has to be a number with no text to interconvert). Notice that when converting a <code>float</code> to an <code>int</code> it always rounds down.\n",
    "\n",
    "> <img src=\"Screenshots/Screen%20Shot%202020-09-01%20at%2010.01.17%20AM.png\">"
   ]
  },
  {
   "cell_type": "code",
   "execution_count": null,
   "metadata": {},
   "outputs": [],
   "source": []
  }
 ],
 "metadata": {
  "kernelspec": {
   "display_name": "Python 3",
   "language": "python",
   "name": "python3"
  },
  "language_info": {
   "codemirror_mode": {
    "name": "ipython",
    "version": 3
   },
   "file_extension": ".py",
   "mimetype": "text/x-python",
   "name": "python",
   "nbconvert_exporter": "python",
   "pygments_lexer": "ipython3",
   "version": "3.7.3"
  }
 },
 "nbformat": 4,
 "nbformat_minor": 2
}
