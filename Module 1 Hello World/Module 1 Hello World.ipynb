{
 "cells": [
  {
   "cell_type": "markdown",
   "metadata": {},
   "source": [
    "# Module 1: Welcome to PSL 475 Coding Bootcamp for Aspiring Scientists & Healthcare Professionals!"
   ]
  },
  {
   "cell_type": "markdown",
   "metadata": {},
   "source": [
    "## Introduction:"
   ]
  },
  {
   "cell_type": "markdown",
   "metadata": {},
   "source": [
    "This is my first time teaching code formally to other people so we are on this journey together! I'm super excited to share this skill with you as I have found it to be a game changer for analyzing data and presenting data in a clean effective way. My goal is to make this a painless and fun learning experience. I'm hoping to make this module series comprehensive of basic coding skills in Python, the coding language we will use, so that you can use them in the real world and even list it as a skill on your resume. Being new to this I would appreciate all of the feedback you have good bad and really really ugly included.\n",
    "\n",
    "To give you some background about me and why I'm doing this I will start where my coding journey began. I was an undergraduate looking to do some research and stumbled upon an opportunity in the CMSE department for computational biology. The kicker was that I didn't know a single line of code and nothing about data science. Fast forward three years later and I am still doing it because I love it. The reason I'm telling you this is because I never took a coding class or paid a dollar to learn. You can learn all of these skills on your own and at your own pace. I've found it to be very rewarding and find that if you approach coding problems as a game of solving many puzzles it is actually fun.\n",
    "\n",
    "I'm very excited to embark on this quest for new knowledge and skills with you and I would also love to hear from you about things that I'm not covering that you want me to address. I will do my best to show you this new skillset through the eyes of someone who has never seen code before but if I fail to do that please let me know (you can reach me at canfie44@msu.edu). I know what it's like to learn code from scratch and that it can be overhwelming and frustrating. Just like any other language this is an example of use it or lose it. The more you push yourself to try new things and challenge yourself, like all things in life, the more you will improve. Lastly, the best source of learning in the coding world happens through mistakes. These are your most valuable learning tool. If you can persevere through this I promise the feeling of satisfaction when you make your first figure on your own will be immense!"
   ]
  },
  {
   "cell_type": "markdown",
   "metadata": {},
   "source": [
    "## Python"
   ]
  },
  {
   "cell_type": "markdown",
   "metadata": {},
   "source": [
    "### What is this \"Python\"?"
   ]
  },
  {
   "cell_type": "markdown",
   "metadata": {},
   "source": [
    "Python is a coding language that was designed for people who want to use code to do about a million things. Python can be used to machine learning, image recognition, data analysis, creating figures and many many other applications. You can even use it to interact with information on the internet and create apps! Python is very versatile and is considered to be one of the easier and very popular languages to get your feet wet in. Python and R, another popular coding language for scientists, will be able to do all of the things you need for class and much more. I have chosen Python as the language for these modules because it is what I use and most familiar with although R can be used to do many of the same things."
   ]
  },
  {
   "cell_type": "markdown",
   "metadata": {},
   "source": [
    "### How Do I Download & Install It?"
   ]
  },
  {
   "cell_type": "markdown",
   "metadata": {},
   "source": [
    "At no cost you can download and install python through a program called <i>Anaconda</i>. <i>Anaconda</i> not only has the python coding language in it but also has some other programs we will use, such as text editors, to make and run our code on our computers. <i>Anaconda</i> is available for both macOS and Windows. Click on the link below to go to the installation page for your operating system (OS) and follow the instructions:"
   ]
  },
  {
   "attachments": {},
   "cell_type": "markdown",
   "metadata": {},
   "source": [
    "<b>For macOS</b>: https://docs.anaconda.com/anaconda/install/mac-os/ <br>\n",
    "> <img src=\"Screen Shot 2020-08-27 at 3.13.31 PM.png\">\n",
    "\n",
    "<b>For Windows</b>: https://docs.anaconda.com/anaconda/install/windows/ <br>\n",
    "> <img src=\"Screen%20Shot%202020-08-27%20at%203.14.00%20PM.png\">"
   ]
  },
  {
   "cell_type": "markdown",
   "metadata": {},
   "source": [
    "There aren't necessarily any inherent advantages to running Python on a Windows or Mac machine. Some software is available only to one or the other but all of the software that we will need that might be machine specific will live in the anaconda program anyway so you don't have to worry about that. I use a Mac so there may be small discrepancies from time to time. I will do my best to address this as I become aware of them."
   ]
  },
  {
   "cell_type": "markdown",
   "metadata": {},
   "source": [
    "## Let's See If It Worked!"
   ]
  },
  {
   "attachments": {},
   "cell_type": "markdown",
   "metadata": {},
   "source": [
    "1. Go ahead and try running the <i>Anaconda Navigator</i> application. It should look something like this:\n",
    "\n",
    "> <img src=\"Screen%20Shot%202020-08-27%20at%203.15.47%20PM.png\">"
   ]
  },
  {
   "cell_type": "markdown",
   "metadata": {},
   "source": [
    "2. As you can see <i>Anaconda</i> has many programs that exist inside of it. Notably there is a texteditor called <b>Spyder</b> that we will use to create our code and <b>Jupyter Notebook</b> which we can use as a sort of <i>\"Lab Notebook\"</i>. The Jupyter <i>Notebook</i> is not the same as Jupyter <i>Lab</i>. Also, note that the R programming language is housed in <i>Anaconda</i> as <b>R Studio</b> which has a text editor built into it should you be interested in learning this language in the future."
   ]
  },
  {
   "cell_type": "markdown",
   "metadata": {},
   "source": [
    "3. The <b>Jupyter Notebook</b> is an interactive way that you can keep record of code you've run with the graphs embedded inside. In fact, these modules are made in <b>Jupyter Notebook</b>! When we want to save these notebooks in a more permanent way so that we can share our work with other people in the community or keep important records of data collected for a project we upload our <b>Jupyter Notebooks</b>, code and figures to a website called <b>GitHub</b>. Let's get that set up by creating a free account and downloading the <b>GitHub Desktop App</b>!"
   ]
  },
  {
   "attachments": {},
   "cell_type": "markdown",
   "metadata": {},
   "source": [
    "<b>GitHub Account Sign-Up:</b> https://github.com/join\n",
    "> <img src=\"Screen%20Shot%202020-08-27%20at%203.17.22%20PM.png\"> \n",
    "\n",
    "<b>GitHub Desktop App:</b> https://desktop.github.com/\n",
    "> <img src=\"Screen%20Shot%202020-08-27%20at%203.18.05%20PM.png\">\n",
    "\n",
    "Although the image I show here has MacOS in larger letters and windows below it, your device should be detected and it will adjust accordingly, if not, just click on the respective OS."
   ]
  },
  {
   "attachments": {},
   "cell_type": "markdown",
   "metadata": {},
   "source": [
    "4. Once you have made an account and download the app, run the <b>GitHub Desktop App</b> and sign in.\n",
    "5. In the top left corner click on the tab so that you can see something that resembles this screen:\n",
    "\n",
    "> <img src=\"Screen%20Shot%202020-08-27%20at%203.19.41%20PM.png\">"
   ]
  },
  {
   "attachments": {},
   "cell_type": "markdown",
   "metadata": {},
   "source": [
    "6. Where it shows a dropdown arrow and says \"Add\" click on it and select <b>Create New Repository...</b>\n",
    "\n",
    "> <img src=\"Screen%20Shot%202020-08-27%20at%203.20.41%20PM.png\">"
   ]
  },
  {
   "attachments": {},
   "cell_type": "markdown",
   "metadata": {},
   "source": [
    "7. Create a name for your new repository and select a place to save it on your computer under <b>Local Path:</b>. Your <i>Path</i> is a list of <b>directories</b> or folders on your computer so that the computer knows where to look for your repository. You can think of a repository being a folder on your computer for a given project. In fact, <b>GitHub</b> will create this folder on your computer in the specified location!Make sure you check the box with <b>Initialze with a README</b>. This creates a file in the repository called a <b>README</b> which is basically a summary file for your repository so other people know what it's for.\n",
    "8. Click <b> Create Repository</b>\n",
    "\n",
    "> <img src=\"Screen%20Shot%202020-08-27%20at%203.22.02%20PM.png\">"
   ]
  },
  {
   "attachments": {},
   "cell_type": "markdown",
   "metadata": {},
   "source": [
    "9. You've now created your first repository!\n",
    "10. Now we want to make it appear online so that you or other people can find it. Click somewhere on the right side of the screen to make the tab on the left recede so that you see this screen. Click <b>Publish repository</b>. Decide whether you want to make the repository <b>Private</b> or not (you can change this later). Click <b>Publish repository</b> again!\n",
    "\n",
    "> <img src=\"Screen%20Shot%202020-08-27%20at%203.22.54%20PM.png\">"
   ]
  },
  {
   "attachments": {},
   "cell_type": "markdown",
   "metadata": {},
   "source": [
    "> <img src=\"Screen%20Shot%202020-08-27%20at%203.23.38%20PM.png\">"
   ]
  },
  {
   "attachments": {},
   "cell_type": "markdown",
   "metadata": {},
   "source": [
    "11. If you now log onto your <b>GitHub</b> page you will now see that your repository is there! If you now look through the files on your computer it also exists there!\n",
    "\n",
    "<b>My GitHub Page:</b>\n",
    "\n",
    "> <img src=\"Screen%20Shot%202020-08-27%20at%203.25.35%20PM.png\">"
   ]
  },
  {
   "attachments": {},
   "cell_type": "markdown",
   "metadata": {},
   "source": [
    "<b>My Repository on my Computer</b>\n",
    "\n",
    "> <img src=\"Screen%20Shot%202020-08-27%20at%203.26.29%20PM.png\">"
   ]
  },
  {
   "cell_type": "markdown",
   "metadata": {},
   "source": [
    "12. So what's so cool about <b>GitHub</b> you're probably wondering? Well, if you make any changes to your repository folder on your local desktop i.e. the one on your computer and not the one that exists online, <b>GitHub</b> automatically tracks the change. The change could be as small as you changing one line of code or adding new files and folders. Let's create a folder called <b>Scripts</b> where we will save our files containing our code. We are also just going to copy or create a file and save it in this folder (it doesn't matter what it is for now). Let's just copy the <b>README.md</b> file into the <b>Scripts</b> folder."
   ]
  },
  {
   "attachments": {},
   "cell_type": "markdown",
   "metadata": {},
   "source": [
    "> <img src=\"Screen%20Shot%202020-08-27%20at%203.27.20%20PM.png\">"
   ]
  },
  {
   "cell_type": "markdown",
   "metadata": {},
   "source": [
    "13. Now, this change to our repository will not change on the online version of your repository unless you <b>Push</b> this change. To do this, go to your <b>GitHub Desktop App</b>. You will now notice that it has tracked changes to your repository:"
   ]
  },
  {
   "attachments": {},
   "cell_type": "markdown",
   "metadata": {},
   "source": [
    "> <img src=\"Screen%20Shot%202020-08-27%20at%203.29.08%20PM.png\">"
   ]
  },
  {
   "cell_type": "markdown",
   "metadata": {},
   "source": [
    "14. Notice in the bottom left corner the <b>Commit to master</b> is now lit up. Before we can <b>Push</b> our changes to to the online version of our repository we need to <b>Commit to master</b>. The <i>master</i> being referenced is the <b>master branch</b> of your repository. It turns out that the other cool feature that <b>GitHub</b> has is that it tracks all of the changes you have <i>ever</i> made. This allows you to revert back to previous states if a mistake is made or an older version needs to be accessed. Further, if you wanted to work together with a colleague to make changes to your code you could each create separate <b>branches</b> to each work on the code independently and then <b>merge</b> them together when you're done (this is pretty complicated and not relevant to the course most likely). <b> Important Note:</b> In order to make a <b>commit</b> you always have to add a small <b>Summary</b> and the <b>Description</b> is optional. This is just a quick mental note of what was changed; usually something like:\n",
    "> <i>\"Fixed Bug\"</i>"
   ]
  },
  {
   "attachments": {},
   "cell_type": "markdown",
   "metadata": {},
   "source": [
    "15. After adding a <b>Summary</b> and <b>Commit to master</b> this screen will pop up. It now prompts you to <b>Push origin</b> the changes. If you click this it will make the changes to the online version of your <b>GitHub</b> page.  \n",
    "\n",
    "> <img src=\"Screen%20Shot%202020-08-27%20at%203.30.09%20PM.png\">"
   ]
  },
  {
   "attachments": {},
   "cell_type": "markdown",
   "metadata": {},
   "source": [
    "16. As you can see the <b>Scripts</b> directory now exists in your online <b>GitHub</b> repository with the <b>README.md</b> file inside!\n",
    "\n",
    "> <img src=\"Screen%20Shot%202020-08-27%20at%203.32.17%20PM.png\">\n",
    "\n",
    "> <img src=\"Screen%20Shot%202020-08-27%20at%203.32.44%20PM.png\">"
   ]
  },
  {
   "cell_type": "markdown",
   "metadata": {},
   "source": [
    "17. Here's where it gets really cool: If you make a <b>Jupyter Notebook</b> and save it in your <b>GitHub</b> repository it formats it nicely!"
   ]
  },
  {
   "attachments": {},
   "cell_type": "markdown",
   "metadata": {},
   "source": [
    "> <img src=\"Screen%20Shot%202020-08-27%20at%203.40.50%20PM.png\">\n",
    "\n",
    "> <img src=\"Screen%20Shot%202020-08-27%20at%203.41.45%20PM.png\">\n",
    "\n",
    "> <img src=\"Screen%20Shot%202020-08-27%20at%203.42.26%20PM.png\">"
   ]
  },
  {
   "cell_type": "markdown",
   "metadata": {},
   "source": [
    "## Conclusions:"
   ]
  },
  {
   "cell_type": "markdown",
   "metadata": {},
   "source": [
    "1. Learned how to install Python and a little bit about what it is\n",
    "2. Installed GitHub and learned how to use it\n",
    "3. Start develpoing the habit of <b>commting</b> and <b>pushing</b> changes made in your repository reguarly to keep your GitHub page up to date"
   ]
  },
  {
   "cell_type": "markdown",
   "metadata": {},
   "source": [
    "## Next Time:"
   ]
  },
  {
   "cell_type": "markdown",
   "metadata": {},
   "source": [
    "1. We will learn how to write some basic Python code\n",
    "2. Learn about our text editor <b>Spyder</b>\n",
    "3. Learn about packages, math and basic Python syntax\n",
    "4. We might touch on <b>Jupyter Notebooks</b> and how to use them"
   ]
  }
 ],
 "metadata": {
  "kernelspec": {
   "display_name": "Python 3",
   "language": "python",
   "name": "python3"
  },
  "language_info": {
   "codemirror_mode": {
    "name": "ipython",
    "version": 3
   },
   "file_extension": ".py",
   "mimetype": "text/x-python",
   "name": "python",
   "nbconvert_exporter": "python",
   "pygments_lexer": "ipython3",
   "version": "3.7.3"
  }
 },
 "nbformat": 4,
 "nbformat_minor": 2
}
